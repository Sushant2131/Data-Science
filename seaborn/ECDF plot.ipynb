{
 "cells": [
  {
   "cell_type": "code",
   "execution_count": 14,
   "id": "694f05b5",
   "metadata": {},
   "outputs": [],
   "source": [
    "import pandas as pd \n",
    "import seaborn as sns\n",
    "from matplotlib import pyplot as plt\n"
   ]
  },
  {
   "cell_type": "code",
   "execution_count": 15,
   "id": "bb428b37",
   "metadata": {},
   "outputs": [
    {
     "data": {
      "text/html": [
       "<div>\n",
       "<style scoped>\n",
       "    .dataframe tbody tr th:only-of-type {\n",
       "        vertical-align: middle;\n",
       "    }\n",
       "\n",
       "    .dataframe tbody tr th {\n",
       "        vertical-align: top;\n",
       "    }\n",
       "\n",
       "    .dataframe thead th {\n",
       "        text-align: right;\n",
       "    }\n",
       "</style>\n",
       "<table border=\"1\" class=\"dataframe\">\n",
       "  <thead>\n",
       "    <tr style=\"text-align: right;\">\n",
       "      <th></th>\n",
       "      <th>car_name</th>\n",
       "      <th>reviews_count</th>\n",
       "      <th>fuel_type</th>\n",
       "      <th>engine_displacement</th>\n",
       "      <th>no_cylinder</th>\n",
       "      <th>seating_capacity</th>\n",
       "      <th>transmission_type</th>\n",
       "      <th>fuel_tank_capacity</th>\n",
       "      <th>body_type</th>\n",
       "      <th>rating</th>\n",
       "      <th>starting_price</th>\n",
       "      <th>ending_price</th>\n",
       "      <th>max_torque_nm</th>\n",
       "      <th>max_torque_rpm</th>\n",
       "      <th>max_power_bhp</th>\n",
       "      <th>max_power_rp</th>\n",
       "    </tr>\n",
       "  </thead>\n",
       "  <tbody>\n",
       "    <tr>\n",
       "      <th>0</th>\n",
       "      <td>Maruti Alto K10</td>\n",
       "      <td>51</td>\n",
       "      <td>Petrol</td>\n",
       "      <td>998</td>\n",
       "      <td>3</td>\n",
       "      <td>5.0</td>\n",
       "      <td>Automatic</td>\n",
       "      <td>27.0</td>\n",
       "      <td>Hatchback</td>\n",
       "      <td>4.5</td>\n",
       "      <td>399000</td>\n",
       "      <td>583000</td>\n",
       "      <td>89.0</td>\n",
       "      <td>3500</td>\n",
       "      <td>65.71</td>\n",
       "      <td>5500</td>\n",
       "    </tr>\n",
       "    <tr>\n",
       "      <th>1</th>\n",
       "      <td>Maruti Brezza</td>\n",
       "      <td>86</td>\n",
       "      <td>Petrol</td>\n",
       "      <td>1462</td>\n",
       "      <td>4</td>\n",
       "      <td>5.0</td>\n",
       "      <td>Automatic</td>\n",
       "      <td>48.0</td>\n",
       "      <td>SUV</td>\n",
       "      <td>4.5</td>\n",
       "      <td>799000</td>\n",
       "      <td>1396000</td>\n",
       "      <td>136.8</td>\n",
       "      <td>4400</td>\n",
       "      <td>101.65</td>\n",
       "      <td>6000</td>\n",
       "    </tr>\n",
       "    <tr>\n",
       "      <th>2</th>\n",
       "      <td>Mahindra Thar</td>\n",
       "      <td>242</td>\n",
       "      <td>Diesel</td>\n",
       "      <td>2184</td>\n",
       "      <td>4</td>\n",
       "      <td>4.0</td>\n",
       "      <td>Automatic</td>\n",
       "      <td>57.0</td>\n",
       "      <td>SUV</td>\n",
       "      <td>4.5</td>\n",
       "      <td>1353000</td>\n",
       "      <td>1603000</td>\n",
       "      <td>300.0</td>\n",
       "      <td>2800</td>\n",
       "      <td>130.00</td>\n",
       "      <td>3750</td>\n",
       "    </tr>\n",
       "    <tr>\n",
       "      <th>3</th>\n",
       "      <td>Mahindra XUV700</td>\n",
       "      <td>313</td>\n",
       "      <td>Diesel</td>\n",
       "      <td>2198</td>\n",
       "      <td>4</td>\n",
       "      <td>7.0</td>\n",
       "      <td>Automatic</td>\n",
       "      <td>60.0</td>\n",
       "      <td>SUV</td>\n",
       "      <td>4.5</td>\n",
       "      <td>1318000</td>\n",
       "      <td>2458000</td>\n",
       "      <td>450.0</td>\n",
       "      <td>2800</td>\n",
       "      <td>182.38</td>\n",
       "      <td>3500</td>\n",
       "    </tr>\n",
       "    <tr>\n",
       "      <th>4</th>\n",
       "      <td>Mahindra Scorpio-N</td>\n",
       "      <td>107</td>\n",
       "      <td>Diesel</td>\n",
       "      <td>2198</td>\n",
       "      <td>4</td>\n",
       "      <td>7.0</td>\n",
       "      <td>Automatic</td>\n",
       "      <td>57.0</td>\n",
       "      <td>SUV</td>\n",
       "      <td>4.5</td>\n",
       "      <td>1199000</td>\n",
       "      <td>2390000</td>\n",
       "      <td>400.0</td>\n",
       "      <td>2750</td>\n",
       "      <td>172.45</td>\n",
       "      <td>3500</td>\n",
       "    </tr>\n",
       "  </tbody>\n",
       "</table>\n",
       "</div>"
      ],
      "text/plain": [
       "             car_name  reviews_count fuel_type  engine_displacement  \\\n",
       "0     Maruti Alto K10             51    Petrol                  998   \n",
       "1       Maruti Brezza             86    Petrol                 1462   \n",
       "2       Mahindra Thar            242    Diesel                 2184   \n",
       "3     Mahindra XUV700            313    Diesel                 2198   \n",
       "4  Mahindra Scorpio-N            107    Diesel                 2198   \n",
       "\n",
       "   no_cylinder  seating_capacity transmission_type  fuel_tank_capacity  \\\n",
       "0            3               5.0         Automatic                27.0   \n",
       "1            4               5.0         Automatic                48.0   \n",
       "2            4               4.0         Automatic                57.0   \n",
       "3            4               7.0         Automatic                60.0   \n",
       "4            4               7.0         Automatic                57.0   \n",
       "\n",
       "   body_type  rating  starting_price  ending_price  max_torque_nm  \\\n",
       "0  Hatchback     4.5          399000        583000           89.0   \n",
       "1        SUV     4.5          799000       1396000          136.8   \n",
       "2        SUV     4.5         1353000       1603000          300.0   \n",
       "3        SUV     4.5         1318000       2458000          450.0   \n",
       "4        SUV     4.5         1199000       2390000          400.0   \n",
       "\n",
       "   max_torque_rpm  max_power_bhp  max_power_rp  \n",
       "0            3500          65.71          5500  \n",
       "1            4400         101.65          6000  \n",
       "2            2800         130.00          3750  \n",
       "3            2800         182.38          3500  \n",
       "4            2750         172.45          3500  "
      ]
     },
     "execution_count": 15,
     "metadata": {},
     "output_type": "execute_result"
    }
   ],
   "source": [
    "df=pd.read_excel('CARS.xlsx')\n",
    "df.head()"
   ]
  },
  {
   "cell_type": "code",
   "execution_count": 29,
   "id": "1372ea70",
   "metadata": {},
   "outputs": [
    {
     "data": {
      "text/plain": [
       "<matplotlib.lines.Line2D at 0x180a61f50c0>"
      ]
     },
     "execution_count": 29,
     "metadata": {},
     "output_type": "execute_result"
    },
    {
     "data": {
      "image/png": "[encoded data removed]",
      "text/plain": [
       "<Figure size 640x480 with 1 Axes>"
      ]
     },
     "metadata": {},
     "output_type": "display_data"
    }
   ],
   "source": [
    "data=df\n",
    "sns.ecdfplot(x='max_torque_nm',hue='fuel_type',data=df,stat='count')\n",
    "plt.axvline(400,c='red')"
   ]
  },
  {
   "cell_type": "code",
   "execution_count": 7,
   "id": "8e8686b5",
   "metadata": {},
   "outputs": [
    {
     "data": {
      "text/plain": [
       "16.1"
      ]
     },
     "execution_count": 7,
     "metadata": {},
     "output_type": "execute_result"
    }
   ],
   "source": [
    "df.max_torque_nm.min()"
   ]
  },
  {
   "cell_type": "code",
   "execution_count": 9,
   "id": "c637ea91",
   "metadata": {},
   "outputs": [
    {
     "data": {
      "text/plain": [
       "1020.0"
      ]
     },
     "execution_count": 9,
     "metadata": {},
     "output_type": "execute_result"
    }
   ],
   "source": [
    "df.max_torque_nm.max()"
   ]
  },
  {
   "cell_type": "code",
   "execution_count": 30,
   "id": "30c037ef",
   "metadata": {},
   "outputs": [
    {
     "data": {
      "text/plain": [
       "250.0    12\n",
       "400.0    10\n",
       "350.0     9\n",
       "500.0     8\n",
       "113.0     8\n",
       "Name: max_torque_nm, dtype: int64"
      ]
     },
     "execution_count": 30,
     "metadata": {},
     "output_type": "execute_result"
    }
   ],
   "source": [
    "df.max_torque_nm.value_counts().head()"
   ]
  },
  {
   "cell_type": "code",
   "execution_count": 34,
   "id": "2743b9f3",
   "metadata": {},
   "outputs": [
    {
     "data": {
      "text/plain": [
       "<Axes: xlabel='max_torque_nm', ylabel='Proportion'>"
      ]
     },
     "execution_count": 34,
     "metadata": {},
     "output_type": "execute_result"
    },
    {
     "data": {
      "image/png": "[encoded data removed]",
      "text/plain": [
       "<Figure size 640x480 with 1 Axes>"
      ]
     },
     "metadata": {},
     "output_type": "display_data"
    }
   ],
   "source": [
    "sns.ecdfplot(x='max_torque_nm',hue='fuel_type',data=df,weights='max_torque_nm')"
   ]
  }
 ],
 "metadata": {
  "kernelspec": {
   "display_name": "Python 3 (ipykernel)",
   "language": "python",
   "name": "python3"
  },
  "language_info": {
   "codemirror_mode": {
    "name": "ipython",
    "version": 3
   },
   "file_extension": ".py",
   "mimetype": "text/x-python",
   "name": "python",
   "nbconvert_exporter": "python",
   "pygments_lexer": "ipython3",
   "version": "3.10.9"
  }
 },
 "nbformat": 4,
 "nbformat_minor": 5
}
