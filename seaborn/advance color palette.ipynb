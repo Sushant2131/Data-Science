{
 "cells": [
  {
   "cell_type": "code",
   "execution_count": 1,
   "id": "34980163",
   "metadata": {},
   "outputs": [],
   "source": [
    "import seaborn as sns\n"
   ]
  },
  {
   "cell_type": "code",
   "execution_count": 3,
   "id": "1cbb5d56",
   "metadata": {},
   "outputs": [
    {
     "ename": "TypeError",
     "evalue": "int() argument must be a string, a bytes-like object or a real number, not 'builtin_function_or_method'",
     "output_type": "error",
     "traceback": [
      "\u001b[1;31m---------------------------------------------------------------------------\u001b[0m",
      "\u001b[1;31mTypeError\u001b[0m                                 Traceback (most recent call last)",
      "Cell \u001b[1;32mIn[3], line 1\u001b[0m\n\u001b[1;32m----> 1\u001b[0m \u001b[43msns\u001b[49m\u001b[38;5;241;43m.\u001b[39;49m\u001b[43mcubehelix_palette\u001b[49m\u001b[43m(\u001b[49m\u001b[38;5;28;43mall\u001b[39;49m\u001b[43m)\u001b[49m\n",
      "File \u001b[1;32m~\\anaconda3\\lib\\site-packages\\seaborn\\palettes.py:748\u001b[0m, in \u001b[0;36mcubehelix_palette\u001b[1;34m(n_colors, start, rot, gamma, hue, light, dark, reverse, as_cmap)\u001b[0m\n\u001b[0;32m    740\u001b[0m cdict \u001b[38;5;241m=\u001b[39m {\n\u001b[0;32m    741\u001b[0m     \u001b[38;5;124m\"\u001b[39m\u001b[38;5;124mred\u001b[39m\u001b[38;5;124m\"\u001b[39m: get_color_function(\u001b[38;5;241m-\u001b[39m\u001b[38;5;241m0.14861\u001b[39m, \u001b[38;5;241m1.78277\u001b[39m),\n\u001b[0;32m    742\u001b[0m     \u001b[38;5;124m\"\u001b[39m\u001b[38;5;124mgreen\u001b[39m\u001b[38;5;124m\"\u001b[39m: get_color_function(\u001b[38;5;241m-\u001b[39m\u001b[38;5;241m0.29227\u001b[39m, \u001b[38;5;241m-\u001b[39m\u001b[38;5;241m0.90649\u001b[39m),\n\u001b[0;32m    743\u001b[0m     \u001b[38;5;124m\"\u001b[39m\u001b[38;5;124mblue\u001b[39m\u001b[38;5;124m\"\u001b[39m: get_color_function(\u001b[38;5;241m1.97294\u001b[39m, \u001b[38;5;241m0.0\u001b[39m),\n\u001b[0;32m    744\u001b[0m }\n\u001b[0;32m    746\u001b[0m cmap \u001b[38;5;241m=\u001b[39m mpl\u001b[38;5;241m.\u001b[39mcolors\u001b[38;5;241m.\u001b[39mLinearSegmentedColormap(\u001b[38;5;124m\"\u001b[39m\u001b[38;5;124mcubehelix\u001b[39m\u001b[38;5;124m\"\u001b[39m, cdict)\n\u001b[1;32m--> 748\u001b[0m x \u001b[38;5;241m=\u001b[39m np\u001b[38;5;241m.\u001b[39mlinspace(light, dark, \u001b[38;5;28;43mint\u001b[39;49m\u001b[43m(\u001b[49m\u001b[43mn_colors\u001b[49m\u001b[43m)\u001b[49m)\n\u001b[0;32m    749\u001b[0m pal \u001b[38;5;241m=\u001b[39m cmap(x)[:, :\u001b[38;5;241m3\u001b[39m]\u001b[38;5;241m.\u001b[39mtolist()\n\u001b[0;32m    750\u001b[0m \u001b[38;5;28;01mif\u001b[39;00m reverse:\n",
      "\u001b[1;31mTypeError\u001b[0m: int() argument must be a string, a bytes-like object or a real number, not 'builtin_function_or_method'"
     ]
    }
   ],
   "source": [
    "sns.cubehelix_palette()"
   ]
  },
  {
   "cell_type": "code",
   "execution_count": null,
   "id": "de371de4",
   "metadata": {},
   "outputs": [],
   "source": []
  }
 ],
 "metadata": {
  "kernelspec": {
   "display_name": "Python 3 (ipykernel)",
   "language": "python",
   "name": "python3"
  },
  "language_info": {
   "codemirror_mode": {
    "name": "ipython",
    "version": 3
   },
   "file_extension": ".py",
   "mimetype": "text/x-python",
   "name": "python",
   "nbconvert_exporter": "python",
   "pygments_lexer": "ipython3",
   "version": "3.10.9"
  }
 },
 "nbformat": 4,
 "nbformat_minor": 5
}
