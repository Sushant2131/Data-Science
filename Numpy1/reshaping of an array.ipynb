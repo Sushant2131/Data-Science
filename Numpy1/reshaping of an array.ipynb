{
 "cells": [
  {
   "cell_type": "markdown",
   "id": "7756f440",
   "metadata": {},
   "source": [
    "# convert 1d to 2d"
   ]
  },
  {
   "cell_type": "code",
   "execution_count": 7,
   "id": "27671c7d",
   "metadata": {
    "scrolled": true
   },
   "outputs": [
    {
     "data": {
      "text/plain": [
       "array([[17, 26, 42, 21,  5, 44],\n",
       "       [37, 31, 17, 42, 30, 28]])"
      ]
     },
     "execution_count": 7,
     "metadata": {},
     "output_type": "execute_result"
    }
   ],
   "source": [
    "import numpy as np\n",
    "arr=np.random.randint(1,50,12)\n",
    "arr\n",
    "arr.shape\n",
    "arr=arr.reshape(2,6)\n",
    "arr"
   ]
  },
  {
   "cell_type": "markdown",
   "id": "f191fc75",
   "metadata": {},
   "source": [
    "# convert 2d to 1d"
   ]
  },
  {
   "cell_type": "code",
   "execution_count": 12,
   "id": "1f1e7be2",
   "metadata": {},
   "outputs": [
    {
     "data": {
      "text/plain": [
       "array([ 1, 25,  8, 30, 26, 42,  3, 18, 46, 38, 20, 32])"
      ]
     },
     "execution_count": 12,
     "metadata": {},
     "output_type": "execute_result"
    }
   ],
   "source": [
    "import numpy as np\n",
    "arr=np.random.randint(1,50,12)\n",
    "arr\n",
    "arr.shape\n",
    "arr=arr.reshape(2,6)\n",
    "arr\n",
    "arr=arr.reshape(12)\n",
    "arr"
   ]
  },
  {
   "cell_type": "markdown",
   "id": "811de356",
   "metadata": {},
   "source": [
    "# converting 1d to 3d"
   ]
  },
  {
   "cell_type": "code",
   "execution_count": 22,
   "id": "a0a524b1",
   "metadata": {},
   "outputs": [
    {
     "data": {
      "text/plain": [
       "array([[1, 2, 3, 4],\n",
       "       [5, 6, 7, 8]])"
      ]
     },
     "execution_count": 22,
     "metadata": {},
     "output_type": "execute_result"
    }
   ],
   "source": [
    "import numpy as np\n",
    "a=[1,2,3,4,5,6,7,8]\n",
    "arr=np.array(a)\n",
    "arr.shape\n",
    "arr=arr.reshape(2,2,2)\n",
    "arr=arr.reshape(8)\n",
    "arr"
   ]
  }
 ],
 "metadata": {
  "kernelspec": {
   "display_name": "Python 3 (ipykernel)",
   "language": "python",
   "name": "python3"
  },
  "language_info": {
   "codemirror_mode": {
    "name": "ipython",
    "version": 3
   },
   "file_extension": ".py",
   "mimetype": "text/x-python",
   "name": "python",
   "nbconvert_exporter": "python",
   "pygments_lexer": "ipython3",
   "version": "3.10.9"
  }
 },
 "nbformat": 4,
 "nbformat_minor": 5
}
