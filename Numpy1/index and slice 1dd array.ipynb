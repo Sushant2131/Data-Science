{
 "cells": [
  {
   "cell_type": "code",
   "execution_count": 3,
   "id": "f5fd35ad",
   "metadata": {},
   "outputs": [
    {
     "name": "stdout",
     "output_type": "stream",
     "text": [
      "enter the size of array : 9\n",
      "enter the number 1\n",
      "enter the number 2\n",
      "enter the number 3\n",
      "enter the number 4\n",
      "enter the number 5\n",
      "enter the number 6\n",
      "enter the number 7\n",
      "enter the number 8\n",
      "enter the number 9\n",
      "[1 2 3 4 5 6 7 8 9]\n"
     ]
    }
   ],
   "source": [
    "import numpy as np\n",
    "a=[]\n",
    "size=int(input(\"enter the size of array : \"))\n",
    "for i in range(size):\n",
    "    value=int(input(\"enter the number \"))\n",
    "    a.append(value)\n",
    "arr=np.array(a)\n",
    "print(arr[:])"
   ]
  }
 ],
 "metadata": {
  "kernelspec": {
   "display_name": "Python 3 (ipykernel)",
   "language": "python",
   "name": "python3"
  },
  "language_info": {
   "codemirror_mode": {
    "name": "ipython",
    "version": 3
   },
   "file_extension": ".py",
   "mimetype": "text/x-python",
   "name": "python",
   "nbconvert_exporter": "python",
   "pygments_lexer": "ipython3",
   "version": "3.10.9"
  }
 },
 "nbformat": 4,
 "nbformat_minor": 5
}
