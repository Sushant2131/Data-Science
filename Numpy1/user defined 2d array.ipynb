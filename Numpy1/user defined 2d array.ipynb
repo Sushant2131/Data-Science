{
 "cells": [
  {
   "cell_type": "code",
   "execution_count": 3,
   "id": "51f66136",
   "metadata": {},
   "outputs": [
    {
     "name": "stdout",
     "output_type": "stream",
     "text": [
      "enter the no. of rows : 3\n",
      "enter the no. of col : 3\n",
      "enter the no. = 1\n",
      "enter the no. = 2\n",
      "enter the no. = 3\n",
      "enter the no. = 4\n",
      "enter the no. = 5\n",
      "enter the no. = 6\n",
      "enter the no. = 7\n",
      "enter the no. = 8\n",
      "enter the no. = 9\n",
      "[0, 0]  [0, 1]  [0, 2]  \n",
      "[1, 0]  [1, 1]  [1, 2]  \n",
      "[2, 0]  [2, 1]  [2, 2]  \n"
     ]
    },
    {
     "ename": "NameError",
     "evalue": "name 'typr' is not defined",
     "output_type": "error",
     "traceback": [
      "\u001b[1;31m---------------------------------------------------------------------------\u001b[0m",
      "\u001b[1;31mNameError\u001b[0m                                 Traceback (most recent call last)",
      "Cell \u001b[1;32mIn[3], line 16\u001b[0m\n\u001b[0;32m     14\u001b[0m         \u001b[38;5;28mprint\u001b[39m([i,j],end\u001b[38;5;241m=\u001b[39m\u001b[38;5;124m\"\u001b[39m\u001b[38;5;124m  \u001b[39m\u001b[38;5;124m\"\u001b[39m)\n\u001b[0;32m     15\u001b[0m     \u001b[38;5;28mprint\u001b[39m()\n\u001b[1;32m---> 16\u001b[0m \u001b[38;5;28mprint\u001b[39m(\u001b[43mtypr\u001b[49m(arr))\n",
      "\u001b[1;31mNameError\u001b[0m: name 'typr' is not defined"
     ]
    }
   ],
   "source": [
    "import numpy as np\n",
    "m=[]\n",
    "row=int(input(\"enter the no. of rows : \"))\n",
    "col=int(input(\"enter the no. of col : \"))\n",
    "for i in range(row):\n",
    "    a=[]\n",
    "    for j in range(col):\n",
    "        val=int(input(\"enter the no. = \"))\n",
    "        a.append(val)\n",
    "        m.append(a)\n",
    "arr=np.array(m)\n",
    "for i in range(row):\n",
    "    for j in range(col):\n",
    "        print([i,j],end=\"  \")\n",
    "    print()\n",
    "print(type(arr))\n",
    "\n"
   ]
  },
  {
   "cell_type": "code",
   "execution_count": null,
   "id": "87aa182b",
   "metadata": {},
   "outputs": [],
   "source": []
  }
 ],
 "metadata": {
  "kernelspec": {
   "display_name": "Python 3 (ipykernel)",
   "language": "python",
   "name": "python3"
  },
  "language_info": {
   "codemirror_mode": {
    "name": "ipython",
    "version": 3
   },
   "file_extension": ".py",
   "mimetype": "text/x-python",
   "name": "python",
   "nbconvert_exporter": "python",
   "pygments_lexer": "ipython3",
   "version": "3.10.9"
  }
 },
 "nbformat": 4,
 "nbformat_minor": 5
}
